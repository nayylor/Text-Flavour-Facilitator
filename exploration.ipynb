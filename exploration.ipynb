{
 "cells": [
  {
   "cell_type": "code",
   "execution_count": 12,
   "metadata": {},
   "outputs": [],
   "source": [
    "import pandas as pd\n",
    "import numpy as np\n",
    "import nltk\n",
    "import string"
   ]
  },
  {
   "cell_type": "code",
   "execution_count": 3,
   "metadata": {},
   "outputs": [],
   "source": [
    "data = pd.read_csv(\"data2.csv\")"
   ]
  },
  {
   "cell_type": "markdown",
   "metadata": {},
   "source": [
    "# Data Preprocessing\n",
    "\n",
    "Cleaning by using nltk word tokenizer. Probably should remove punctuation and lemmatize. Also need to split emojis that are grouped together into separate words"
   ]
  },
  {
   "cell_type": "code",
   "execution_count": 14,
   "metadata": {
    "scrolled": true
   },
   "outputs": [],
   "source": [
    "RE_EMOJI = re.compile(u'([\\U00002600-\\U000027BF])|([\\U0001f300-\\U0001f64F])|([\\U0001f680-\\U0001f6FF])')\n",
    "tokenizer = nltk.word_tokenize\n",
    "lemmer = nltk.stem.WordNetLemmatizer()\n",
    "# words = [tokenizer(text.lower()) for text in data[\"texts\"]]\n",
    "\n",
    "# take as input the tokens and return normalized tokens\n",
    "def LemTokens(tokens):\n",
    "    return [lemmer.lemmatize(token) for token in tokens]\n",
    "\n",
    "remove_punct_dict = dict((ord(punct), None) for punct in string.punctuation)\n",
    "\n",
    "# tokens normalized\n",
    "def LemNormalize(text):\n",
    "    return LemTokens(nltk.word_tokenize(text.lower().translate(remove_punct_dict)))\n",
    "\n",
    "words = []\n",
    "for text in data[\"texts\"]:\n",
    "    text = \" \\\\\".join(text.split(\"\\\\\"))\n",
    "    words.append(LemNormalize(text))"
   ]
  },
  {
   "cell_type": "code",
   "execution_count": 15,
   "metadata": {
    "scrolled": true
   },
   "outputs": [
    {
     "name": "stdout",
     "output_type": "stream",
     "text": [
      "[['quick', 'psa', 'if', 'you', 'deny', 'the', 'fact', 'that', 'kanye', 'ha', 'literally', 'shaped', 'the', 'current', 'state', 'of', 'hip', 'hop', 'and', 'most', 'music', 'both', 'directly', 'and', 'indirectly', 'and', 'that', 'he', 'make', 'inferior', 'music', 'now', 'you', 'know', 'nothing', 'about', 'how', 'music', 'work', 'nor', 'industry', 'history', 'kanye', 'will', 'one', 'day', 'be', 'remembered', 'a', 'one', 'of', 'if', 'not', 'the', 'greatest', 'artist', 'of', 'our', 'generation', 'he', 'introduced', 'singing', 'into', 'hip', 'hop', 'when', 'it', 'wa', 'considered', 'uncool', 'brought', 'back', 'the', '808s', 'drum', 'machine', 'ha', 'produced', 'some', 'of', 'the', 'greatest', 'artistic', 'work', 'of', 'all', 'time', 'ha', 'affected', 'every', 'single', 'artist', 'working', 'currently', 'in', 'some', 'way', 'and', 'continues', 'to', 'evolve', 'and', 'create', 'wonderful', 'work', 'of', 'art', 'that', 'anyone', 'can', 'love', 'if', 'they', 'are', 'open', 'to', 'it', 'anyways', 'thats', 'my', 'rant', 'for', 'today', '❤️'], ['i', '’', 'm', 'from', 'the', 'state', 'of', 'texas', 'yeehaw🤠i', 'tell', 'you', 'what', 'i', '’', 'm', 'from', 'the', 'state', 'of', 'texas🇺🇸my', 'meemaw👱🏿\\u200d♀️makes', 'the', 'best', 'damn', 'biscuit', 'and', 'gravy🍜', 'i', 'take', 'a', 'horse', '🐎', 'to', 'work', 'every', 'day', 'and', 'i', 'live', 'on', 'a', 'farm🏚i', 'have', 'a', '44', 'gauge', 'on', 'my', 'back🔫', 'so', 'dont', 'you', 'fucking', 'fuck', 'with', 'me', 'you', 'fucktard'], ['i', 'hate', 'doggo', 'speak', 'so', 'much', 'it', 'make', 'my', 'blood', 'emerge', 'from', 'my', 'body', 'and', 'take', 'on', 'the', 'form', 'of', 'a', 'demon', '📷', 'honestly', 'i', 'hate', 'this', 'sub', 'but', 'i', 'needed', 'to', 'get', 'this', 'out', 'i', 'hate', 'the', 'doggo', 'woofer', 'pupper', 'shit', 'so', 'fucking', 'much', 'it', 'insane', 'i', 'see', 'it', 'and', 'i', 'feel', 'like', 'flying', 'into', 'a', 'satanic', 'rage', 'it', 'so', 'stupid', 'and', 'i', 'dont', 'understand', 'why', 'grown', 'adult', 'want', 'to', 'speak', 'like', 'literal', 'toddler', 'every', 'god', 'damn', 'askreddit', 'thread', 'that', 'say', 'whats', 'something', 'that', 'the', 'opposite', 'gender', 'doe', 'thats', 'a', 'turn', 'off', 'people', 'are', 'all', 'like', 'hnnn', 'i', 'hate', 'baby', 'talk', 'it', 'sooooo', 'gross', 'brrrrr', 'and', 'then', 'turn', 'around', 'and', 'spew', 'shit', 'like', 'awww', 'lookit', 'the', 'floofer', 'doggo', 'boyo', 'doin', 'a', 'heckin', 'tail', 'wag', 'i', 'wan', 'na', 'boop', 'the', 'snoot', 'haha', 'henlo', 'fren', 'holy', 'shit', 'it', 'make', 'me', 'want', 'to', 'stab', 'something', 'it', 'just', 'the', 'same', 'old', 'lul', 'im', 'so', 'r4nd0m', 'and', 'i', 'can', 'haz', 'cheezeburger', 'that', 'people', 'laugh', 'at', 'now', 'even', 'though', 'it', 'exactly', 'a', 'fucking', 'cringey', 'a', 'this', 'doggo', 'shit', 'i', 'fucking', 'guarantee', 'you', 'in', '2', 'year', 'people', 'will', 'look', 'back', 'and', 'go', 'what', 'the', 'fuck', 'were', 'we', 'thinking', 'speaking', 'like', 'toddler', 'that', 'had', 'their', 'head', 'bashed', 'in', 'with', 'a', 'hammer', 'fuck', 'i', 'swear', 'to', 'god', 'whenever', 'i', 'see', 'this', 'stupid', 'hivemind', 'unoriginal', 'bullshit', 'i', 'turn', 'into', 'a', 'fucking', 'black', 'hole', 'speak', 'like', 'an', 'actual', 'human', 'adult', 'god', 'damnit', 'im', 'so', 'mad', 'im', 'fucking', 'melting', 'fuck', 'help', 'me', 'im', 'shrinking', 'fuck', 'no', 'help', 'im', 'shrinking', 'im', 'shrinking', 'fuuuuuuuuuuuuuuuuuuuuuuuuuuuuuuuuck'], ['✦', '˚', '✦', '\\u200d', '\\u200d', '\\u200d', '\\u200d', 'ﾟ', '☀️', '✦', '🚀', '\\u200d', '\\u200d', '\\u200d', '\\u200d', '˚', '✦', '🌑', '˚', 'ﾟ', '🌎', '\\u200d', '\\u200d', '\\u200d', '\\u200d', '\\u200d', '\\u200d', '\\u200d', '\\u200d', '\\u200d', '\\u200d', '✦', '˚'], ['🖕🏿🖕🏿🖕🏿🖕🏿🖕🏿🖕🏿🖕🏿🖕🏿🖕🏿🖕🏿🖕🏿', '🖕🏿🖕🏾🖕🏾🖕🏾🖕🏾🖕🏾🖕🏾🖕🏾🖕🏾🖕🏾🖕🏿', '🖕🏿🖕🏾🖕🏽🖕🏽🖕🏽🖕🏽🖕🏽🖕🏽🖕🏽🖕🏾🖕🏿', '🖕🏿🖕🏾🖕🏽🖕🏼🖕🏼🖕🏼🖕🏼🖕🏼🖕🏽🖕🏾🖕🏿', '🖕🏿🖕🏾🖕🏽🖕🏼🖕🏻🖕🏻🖕🏻🖕🏼🖕🏽🖕🏾🖕🏿', '🖕🏿🖕🏾🖕🏽🖕🏼🖕🏻🖕🏻🖕🏻🖕🏼🖕🏽🖕🏾🖕🏿', '🖕🏿🖕🏾🖕🏽🖕🏼🖕🏻🖕🏻🖕🏻🖕🏼🖕🏽🖕🏾🖕🏿', '🖕🏿🖕🏾🖕🏽🖕🏼🖕🏼🖕🏼🖕🏼🖕🏼🖕🏽🖕🏾🖕🏿', '🖕🏿🖕🏾🖕🏽🖕🏽🖕🏽🖕🏽🖕🏽🖕🏽🖕🏽🖕🏾🖕🏿', '🖕🏿🖕🏾🖕🏾🖕🏾🖕🏾🖕🏾🖕🏾🖕🏾🖕🏾🖕🏾🖕🏿', '🖕🏿🖕🏿🖕🏿🖕🏿🖕🏿🖕🏿🖕🏿🖕🏿🖕🏿🖕🏿🖕🏿']]\n"
     ]
    }
   ],
   "source": [
    "print(words[:5])"
   ]
  }
 ],
 "metadata": {
  "kernelspec": {
   "display_name": "Python 3",
   "language": "python",
   "name": "python3"
  },
  "language_info": {
   "codemirror_mode": {
    "name": "ipython",
    "version": 3
   },
   "file_extension": ".py",
   "mimetype": "text/x-python",
   "name": "python",
   "nbconvert_exporter": "python",
   "pygments_lexer": "ipython3",
   "version": "3.7.1"
  }
 },
 "nbformat": 4,
 "nbformat_minor": 2
}
