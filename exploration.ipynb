{
 "cells": [
  {
   "cell_type": "code",
   "execution_count": 4,
   "metadata": {},
   "outputs": [],
   "source": [
    "import pandas as pd\n",
    "import numpy as np\n",
    "import nltk"
   ]
  },
  {
   "cell_type": "code",
   "execution_count": 3,
   "metadata": {},
   "outputs": [],
   "source": [
    "data = pd.read_csv(\"data2.csv\")"
   ]
  },
  {
   "cell_type": "markdown",
   "metadata": {},
   "source": [
    "# Data Preprocessing\n",
    "\n",
    "Cleaning by using nltk word tokenizer. Probably should remove punctuation and lemmatize. Also need to split emojis that are grouped together into separate words"
   ]
  },
  {
   "cell_type": "code",
   "execution_count": 6,
   "metadata": {},
   "outputs": [],
   "source": [
    "tokenizer = nltk.word_tokenize\n",
    "words = [tokenizer(text.lower()) for text in data[\"texts\"]]"
   ]
  },
  {
   "cell_type": "code",
   "execution_count": 7,
   "metadata": {},
   "outputs": [
    {
     "name": "stdout",
     "output_type": "stream",
     "text": [
      "[['quick', 'psa', ',', 'if', 'you', 'deny', 'the', 'fact', 'that', 'kanye', 'has', 'literally', 'shaped', 'the', 'current', 'state', 'of', 'hip', 'hop', 'and', 'most', 'music', 'both', 'directly', 'and', 'indirectly', 'and', 'that', 'he', 'makes', 'inferior', 'music', 'now', ',', 'you', 'know', 'nothing', 'about', 'how', 'music', 'works', 'nor', 'industry', 'history', '.', 'kanye', 'will', 'one', 'day', 'be', 'remembered', 'as', 'one', 'of', ',', 'if', 'not', 'the', 'greatest', 'artist', 'of', 'our', 'generation', '.', 'he', 'introduced', 'singing', 'into', 'hip', 'hop', 'when', 'it', 'was', 'considered', 'uncool', ',', 'brought', 'back', 'the', '808', \"'s\", 'drum', 'machine', ',', 'has', 'produced', 'some', 'of', 'the', 'greatest', 'artistic', 'works', 'of', 'all', 'time', ',', 'has', 'affected', 'every', 'single', 'artist', 'working', 'currently', 'in', 'some', 'way', ',', 'and', 'continues', 'to', 'evolve', 'and', 'create', 'wonderful', 'works', 'of', 'art', 'that', 'anyone', 'can', 'love', 'if', 'they', 'are', 'open', 'to', 'it', '.', 'anyways', ',', 'that', \"'s\", 'my', 'rant', 'for', 'today', '❤️'], ['i', '’', 'm', 'from', 'the', 'state', 'of', 'texas', 'yeehaw🤠i', 'tell', 'you', 'what', ',', 'i', '’', 'm', 'from', 'the', 'state', 'of', 'texas🇺🇸my', 'meemaw👱🏿\\u200d♀️makes', 'the', 'best', 'damn', 'biscuits', 'and', 'gravy🍜', 'i', 'take', 'a', 'horse', '🐎', 'to', 'work', 'every', 'day', 'and', 'i', 'live', 'on', 'a', 'farm🏚i', 'have', 'a', '44.', 'gauge', 'on', 'my', 'back🔫', 'so', 'dont', 'you', 'fucking', 'fuck', 'with', 'me', 'you', 'fucktard', '!'], ['#', 'i', 'hate', '``', 'doggo', \"''\", 'speak', 'so', 'much', 'it', 'makes', 'my', 'blood', 'emerge', 'from', 'my', 'body', 'and', 'take', 'on', 'the', 'form', 'of', 'a', 'demon', '.', '📷', 'honestly', 'i', 'hate', 'this', 'sub', ',', 'but', 'i', 'needed', 'to', 'get', 'this', 'out', '.', 'i', 'hate', 'the', '``', 'doggo', 'woofer', 'pupper', \"''\", 'shit', '*so', 'fucking', 'much', 'it', \"'s\", 'insane*', '.', 'i', 'see', 'it', 'and', 'i', 'feel', 'like', 'flying', 'into', 'a', 'satanic', 'rage', '.', 'it', \"'s\", '*so', 'stupid*', 'and', 'i', 'do', \"n't\", 'understand', 'why', 'grown', 'adults', 'want', 'to', 'speak', 'like', 'literal', 'toddlers', '.', 'every', 'god', 'damn', 'askreddit', 'thread', 'that', 'says', '``', 'what', \"'s\", 'something', 'that', 'the', 'opposite', 'gender', 'does', 'that', \"'s\", 'a', 'turn', 'off', \"''\", ',', 'people', 'are', 'all', 'like', '``', 'hnnn', 'i', 'hate', 'baby', 'talk', 'it', \"'s\", 'sooooo', 'gross', 'brrrrr', \"''\", 'and', 'then', 'turn', 'around', 'and', 'spew', 'shit', 'like', '``', 'awww', 'lookit', 'the', 'floofer', 'doggo', 'boyo', 'doin', 'a', 'heckin', 'tail', 'wag', 'i', 'wan', 'na', 'boop', 'the', 'snoot', 'haha', 'henlo', 'fren', \"''\", '.', 'holy', 'shit', 'it', 'makes', 'me', 'want', 'to', 'stab', 'something', '.', 'it', \"'s\", 'just', 'the', 'same', 'old', '``', 'lul', 'i', \"'m\", 'so', 'r4nd0m', '!', '!', '!', \"''\", 'and', '``', 'i', 'can', 'haz', 'cheezeburger', '?', '?', \"''\", 'that', 'people', 'laugh', 'at', 'now', '*even', 'though', 'it', \"'s\", 'exactly', 'as', 'fucking', 'cringey', 'as', 'this', 'doggo', 'shit*', '.', 'i', 'fucking', 'guarantee', 'you', 'in', '2', 'years', 'people', 'will', 'look', 'back', 'and', 'go', '``', 'what', 'the', 'fuck', 'were', 'we', 'thinking', ',', 'speaking', 'like', 'toddlers', 'that', 'had', 'their', 'head', 'bashed', 'in', 'with', 'a', 'hammer', '?', \"''\", 'fuck', ',', 'i', 'swear', 'to', 'god', 'whenever', 'i', 'see', 'this', 'stupid', 'hivemind', 'unoriginal', 'bullshit', 'i', 'turn', 'into', 'a', 'fucking', 'black', 'hole', '.', 'speak', 'like', 'an', 'actual', 'human', 'adult', '.', 'god', 'damnit', 'i', \"'m\", 'so', 'mad', 'i', \"'m\", 'fucking', 'melting', '.', 'fuck', 'help', 'me', 'i', \"'m\", 'shrinking', ',', 'fuck', ',', 'no', ',', 'help', ',', 'i', \"'m\", 'shrinking', ',', 'i', \"'m\", 'shrinking', 'fuuuuuuuuuuuuuuuuuuuuuuuuuuuuuuuuck'], ['.', '✦', '˚', '*', '.', '.', '✦', '\\u200d', '\\u200d', '\\u200d', '\\u200d', ',', '.', '.', 'ﾟ', '.', '.', ',', '.', '☀️', '.', '.', '.', '✦', ',', '🚀', ',', '\\u200d', '\\u200d', '\\u200d', '\\u200d', '.', '.', '˚', ',', '.', '.', '.', '*', '✦', '.', '.', '.', '.', '🌑', '.', '.', '˚', 'ﾟ', '.', '.', '🌎', '\\u200d', '\\u200d', '\\u200d', '\\u200d', '\\u200d', '\\u200d', '\\u200d', '\\u200d', '\\u200d', '\\u200d', ',', '*', '.', '.', '✦', '˚', '*', '.', '.'], ['🖕🏿🖕🏿🖕🏿🖕🏿🖕🏿🖕🏿🖕🏿🖕🏿🖕🏿🖕🏿🖕🏿', '🖕🏿🖕🏾🖕🏾🖕🏾🖕🏾🖕🏾🖕🏾🖕🏾🖕🏾🖕🏾🖕🏿', '🖕🏿🖕🏾🖕🏽🖕🏽🖕🏽🖕🏽🖕🏽🖕🏽🖕🏽🖕🏾🖕🏿', '🖕🏿🖕🏾🖕🏽🖕🏼🖕🏼🖕🏼🖕🏼🖕🏼🖕🏽🖕🏾🖕🏿', '🖕🏿🖕🏾🖕🏽🖕🏼🖕🏻🖕🏻🖕🏻🖕🏼🖕🏽🖕🏾🖕🏿', '🖕🏿🖕🏾🖕🏽🖕🏼🖕🏻🖕🏻🖕🏻🖕🏼🖕🏽🖕🏾🖕🏿', '🖕🏿🖕🏾🖕🏽🖕🏼🖕🏻🖕🏻🖕🏻🖕🏼🖕🏽🖕🏾🖕🏿', '🖕🏿🖕🏾🖕🏽🖕🏼🖕🏼🖕🏼🖕🏼🖕🏼🖕🏽🖕🏾🖕🏿', '🖕🏿🖕🏾🖕🏽🖕🏽🖕🏽🖕🏽🖕🏽🖕🏽🖕🏽🖕🏾🖕🏿', '🖕🏿🖕🏾🖕🏾🖕🏾🖕🏾🖕🏾🖕🏾🖕🏾🖕🏾🖕🏾🖕🏿', '🖕🏿🖕🏿🖕🏿🖕🏿🖕🏿🖕🏿🖕🏿🖕🏿🖕🏿🖕🏿🖕🏿']]\n"
     ]
    }
   ],
   "source": [
    "print(words[:5])"
   ]
  }
 ],
 "metadata": {
  "kernelspec": {
   "display_name": "Python 3",
   "language": "python",
   "name": "python3"
  },
  "language_info": {
   "codemirror_mode": {
    "name": "ipython",
    "version": 3
   },
   "file_extension": ".py",
   "mimetype": "text/x-python",
   "name": "python",
   "nbconvert_exporter": "python",
   "pygments_lexer": "ipython3",
   "version": "3.7.1"
  }
 },
 "nbformat": 4,
 "nbformat_minor": 2
}
